{
 "cells": [
  {
   "cell_type": "code",
   "execution_count": 37,
   "id": "38801b19-20f7-4f1f-a8d3-cd26159408b3",
   "metadata": {},
   "outputs": [],
   "source": [
    "import zipfile\n",
    "import pandas as pd\n",
    "import os"
   ]
  },
  {
   "cell_type": "code",
   "execution_count": 55,
   "id": "673fb6a2-4670-4354-b092-2aaf70a2ea1c",
   "metadata": {},
   "outputs": [
    {
     "name": "stdout",
     "output_type": "stream",
     "text": [
      "Extracted files: ['Badminton_Match_Result_Dataset_1.csv', 'Badminton_Match_Result_Dataset_2.csv', 'Badminton_Match_Result_Dataset_3.csv']\n"
     ]
    }
   ],
   "source": [
    "\n",
    "zip_path = 'C:/Users/Thelissa/Downloads/Badminton_Match_Result_Dataset.zip'\n",
    "extract_path = 'C:/Users/Thelissa/Documents/Badminton_Match_Result_Dataset'\n",
    "\n",
    "\n",
    "with zipfile.ZipFile(zip_path, 'r') as zip_ref:\n",
    "    zip_ref.extractall(extract_path)\n",
    "\n",
    "# List the extracted files\n",
    "extracted_files = os.listdir(extract_path)\n",
    "print(\"Extracted files:\", extracted_files)\n",
    "\n"
   ]
  },
  {
   "cell_type": "code",
   "execution_count": 56,
   "id": "0b939249-dca9-49bd-8086-71c6b3b8b047",
   "metadata": {},
   "outputs": [
    {
     "name": "stdout",
     "output_type": "stream",
     "text": [
      "       team_1        team_2 t1_p1_condition t1_p2_condition t2_p1_condition  \\\n",
      "0  David/Moel    Wawo/Angga        Recovery         Injured         Injured   \n",
      "1  Arya/David    Dennis/Eka         Injured             Fit             Fit   \n",
      "2   Eka/David     Wawo/Arya             Fit        Recovery        Recovery   \n",
      "3   David/Eka  Wirawan/Arya            Sick             Fit         Injured   \n",
      "4   Wawo/Arya    Eka/Dennis         Injured            Sick             Fit   \n",
      "\n",
      "  t2_p2_condition score  \n",
      "0            Sick  '2-0  \n",
      "1         Injured  '2-1  \n",
      "2             Fit  '1-2  \n",
      "3        Recovery  '2-1  \n",
      "4         Injured  '1-2  \n",
      "        tim_1         tim_2 kondisi_team1_player1 kondisi_team1_player2  \\\n",
      "0  David/Moel    Wawo/Angga              Recovery               Injured   \n",
      "1  Arya/David    Dennis/Eka               Injured                   Fit   \n",
      "2   Eka/David     Wawo/Arya                   Fit              Recovery   \n",
      "3   David/Eka  Wirawan/Arya                  Sick                   Fit   \n",
      "4   Wawo/Arya    Eka/Dennis               Injured                  Sick   \n",
      "\n",
      "  kondisi_team2_player1 kondisi_team2_player2  skor  \n",
      "0               Injured                  Sick  '2-0  \n",
      "1                   Fit               Injured  '2-1  \n",
      "2              Recovery                   Fit  '1-2  \n",
      "3               Injured              Recovery  '2-1  \n",
      "4                   Fit               Injured  '1-2  \n",
      "        tim_1         tim_2 kondisi_team1_player1 kondisi_team1_player2  \\\n",
      "0  David/Moel    Wawo/Angga             Pemulihan                Cedera   \n",
      "1  Arya/David    Dennis/Eka                Cedera                 Sehat   \n",
      "2   Eka/David     Wawo/Arya                 Sehat             Pemulihan   \n",
      "3   David/Eka  Wirawan/Arya                 Sakit                 Sehat   \n",
      "4   Wawo/Arya    Eka/Dennis                Cedera                 Sakit   \n",
      "\n",
      "  kondisi_team2_player1 kondisi_team2_player2 score  \n",
      "0                Cedera                 Sakit  '2-0  \n",
      "1                 Sehat                Cedera  '2-1  \n",
      "2             Pemulihan                 Sehat  '1-2  \n",
      "3                Cedera             Pemulihan  '2-1  \n",
      "4                 Sehat                Cedera  '1-2  \n"
     ]
    }
   ],
   "source": [
    "# Read the extracted CSV files into DataFrames\n",
    "file1 = pd.read_csv(os.path.join(extract_path, 'Badminton_Match_Result_Dataset_1.csv'), delimiter=';')\n",
    "file2 = pd.read_csv(os.path.join(extract_path, 'Badminton_Match_Result_Dataset_2.csv'), delimiter=';')\n",
    "file3 = pd.read_csv(os.path.join(extract_path, 'Badminton_Match_Result_Dataset_3.csv'), delimiter=';')\n",
    "\n",
    "# Optionally, you can print the first few rows to check\n",
    "print(file1.head())\n",
    "print(file2.head())\n",
    "print(file3.head())"
   ]
  },
  {
   "cell_type": "code",
   "execution_count": 57,
   "id": "0eea01ba-74b2-47cc-9e92-f7aa3940fb51",
   "metadata": {},
   "outputs": [
    {
     "name": "stdout",
     "output_type": "stream",
     "text": [
      "       team_1        team_2 t1_p1_condition t1_p2_condition t2_p1_condition  \\\n",
      "0  David/Moel    Wawo/Angga        Recovery         Injured         Injured   \n",
      "1  Arya/David    Dennis/Eka         Injured             Fit             Fit   \n",
      "2   Eka/David     Wawo/Arya             Fit        Recovery        Recovery   \n",
      "3   David/Eka  Wirawan/Arya            Sick             Fit         Injured   \n",
      "4   Wawo/Arya    Eka/Dennis         Injured            Sick             Fit   \n",
      "\n",
      "  t2_p2_condition score  \n",
      "0            Sick   2-0  \n",
      "1         Injured   2-1  \n",
      "2             Fit   1-2  \n",
      "3        Recovery   2-1  \n",
      "4         Injured   1-2  \n"
     ]
    }
   ],
   "source": [
    "# Rename columns of the second and third datasets to match the first dataset's column names\n",
    "file2.rename(columns={\n",
    "    'tim_1': 'team_1',\n",
    "    'tim_2': 'team_2',\n",
    "    'kondisi_team1_player1': 't1_p1_condition',\n",
    "    'kondisi_team1_player2': 't1_p2_condition',\n",
    "    'kondisi_team2_player1': 't2_p1_condition',\n",
    "    'kondisi_team2_player2': 't2_p2_condition',\n",
    "    'skor': 'score'\n",
    "}, inplace=True)\n",
    "\n",
    "file3.rename(columns={\n",
    "    'tim_1': 'team_1',\n",
    "    'tim_2': 'team_2',\n",
    "    'kondisi_team1_player1': 't1_p1_condition',\n",
    "    'kondisi_team1_player2': 't1_p2_condition',\n",
    "    'kondisi_team2_player1': 't2_p1_condition',\n",
    "    'kondisi_team2_player2': 't2_p2_condition',\n",
    "    'score': 'score'\n",
    "}, inplace=True)\n",
    "\n",
    "# Check column names after renaming\n",
    "# print(file1.columns)\n",
    "# print(file2.columns)\n",
    "# print(file3.columns)\n",
    "\n",
    "# Concatenate the DataFrames\n",
    "combined_df = pd.concat([file1, file2, file3], ignore_index=True)\n",
    "\n",
    "# Remove the leading single quote (') from the 'score' column\n",
    "combined_df['score'] = combined_df['score'].str.replace(\"'\", \"\", regex=False)\n",
    "\n",
    "# Check the cleaned data\n",
    "print(combined_df.head())"
   ]
  },
  {
   "cell_type": "code",
   "execution_count": 59,
   "id": "06c894d6-e84a-462b-8a72-9e820e6e1d73",
   "metadata": {},
   "outputs": [
    {
     "name": "stdout",
     "output_type": "stream",
     "text": [
      "Missing data per column:\n",
      " team_1             4\n",
      "team_2             1\n",
      "t1_p1_condition    3\n",
      "t1_p2_condition    2\n",
      "t2_p1_condition    1\n",
      "t2_p2_condition    1\n",
      "score              3\n",
      "dtype: int64\n"
     ]
    }
   ],
   "source": [
    "# Cek jumlah missing values per kolom\n",
    "print(\"Missing data per column:\\n\", combined_df.isnull().sum())"
   ]
  },
  {
   "cell_type": "code",
   "execution_count": 58,
   "id": "d0714720-6425-49a3-b853-e7c9c981c6df",
   "metadata": {},
   "outputs": [],
   "source": [
    "# Normalize text data (lowercase, strip whitespace)\n",
    "for col in ['t1_p1_condition', 't1_p2_condition', 't2_p1_condition', 't2_p2_condition']:\n",
    "    combined_df[col] = combined_df[col].str.lower().str.strip()\n",
    "\n",
    "# Terjemahkan semua kondisi ke bahasa Inggris untuk konsistensi\n",
    "translate_map = {\n",
    "    'sehat': 'fit',\n",
    "    'cedera': 'injured',\n",
    "    'sakit': 'sick',\n",
    "    'pemulihan': 'recovery'\n",
    "}\n",
    "\n",
    "for col in ['t1_p1_condition', 't1_p2_condition', 't2_p1_condition', 't2_p2_condition']:\n",
    "    combined_df[col] = combined_df[col].replace(translate_map)"
   ]
  },
  {
   "cell_type": "code",
   "execution_count": 61,
   "id": "a5022d12-0809-4777-b1ba-5fe88712966c",
   "metadata": {},
   "outputs": [],
   "source": [
    "# Buang baris yang tidak punya skor\n",
    "combined_df = combined_df.dropna(subset=['score'])\n",
    "\n",
    "# Pastikan skor benar-benar string (kalau masih ada yang float karena NaN sebelumnya)\n",
    "combined_df['score'] = combined_df['score'].astype(str)\n",
    "\n",
    "# Split skor jadi dua kolom numerik\n",
    "combined_df[['team_1_score', 'team_2_score']] = combined_df['score'].str.split('-', expand=True).astype(int)\n",
    "\n",
    "# Split nama pemain\n",
    "combined_df['team_1_players'] = combined_df['team_1'].str.split('/')\n",
    "combined_df['team_2_players'] = combined_df['team_2'].str.split('/')\n"
   ]
  },
  {
   "cell_type": "code",
   "execution_count": 62,
   "id": "b65daf68-e5a6-405c-b629-adccea0bb950",
   "metadata": {},
   "outputs": [
    {
     "name": "stdout",
     "output_type": "stream",
     "text": [
      "Head:\n",
      "        team_1        team_2 t1_p1_condition t1_p2_condition t2_p1_condition  \\\n",
      "0  David/Moel    Wawo/Angga        recovery         injured         injured   \n",
      "1  Arya/David    Dennis/Eka         injured             fit             fit   \n",
      "2   Eka/David     Wawo/Arya             fit        recovery        recovery   \n",
      "3   David/Eka  Wirawan/Arya            sick             fit         injured   \n",
      "4   Wawo/Arya    Eka/Dennis         injured            sick             fit   \n",
      "\n",
      "  t2_p2_condition score  team_1_score  team_2_score team_1_players  \\\n",
      "0            sick   2-0             2             0  [David, Moel]   \n",
      "1         injured   2-1             2             1  [Arya, David]   \n",
      "2             fit   1-2             1             2   [Eka, David]   \n",
      "3        recovery   2-1             2             1   [David, Eka]   \n",
      "4         injured   1-2             1             2   [Wawo, Arya]   \n",
      "\n",
      "    team_2_players  \n",
      "0    [Wawo, Angga]  \n",
      "1    [Dennis, Eka]  \n",
      "2     [Wawo, Arya]  \n",
      "3  [Wirawan, Arya]  \n",
      "4    [Eka, Dennis]  \n",
      "\n",
      "Tail:\n",
      "             team_1        team_2 t1_p1_condition t1_p2_condition  \\\n",
      "5995    Arya/David     Angga/Eka            sick             fit   \n",
      "5996    Angga/Arya   Dennis/Wawo        recovery             fit   \n",
      "5997     Arya/Wawo  Dennis/Angga            sick        recovery   \n",
      "5998  Arya/Wirawan      Moel/Eka             fit             fit   \n",
      "5999  Wirawan/Moel     Eka/Angga        recovery             fit   \n",
      "\n",
      "     t2_p1_condition t2_p2_condition score  team_1_score  team_2_score  \\\n",
      "5995         injured             fit   1-2             1             2   \n",
      "5996         injured        recovery   2-0             2             0   \n",
      "5997        recovery        recovery   2-0             2             0   \n",
      "5998        recovery            sick   1-2             1             2   \n",
      "5999        recovery             fit   0-2             0             2   \n",
      "\n",
      "       team_1_players   team_2_players  \n",
      "5995    [Arya, David]     [Angga, Eka]  \n",
      "5996    [Angga, Arya]   [Dennis, Wawo]  \n",
      "5997     [Arya, Wawo]  [Dennis, Angga]  \n",
      "5998  [Arya, Wirawan]      [Moel, Eka]  \n",
      "5999  [Wirawan, Moel]     [Eka, Angga]  \n",
      "\n",
      "Jumlah data: 5997\n",
      "Kolom: ['team_1', 'team_2', 't1_p1_condition', 't1_p2_condition', 't2_p1_condition', 't2_p2_condition', 'score', 'team_1_score', 'team_2_score', 'team_1_players', 'team_2_players']\n"
     ]
    }
   ],
   "source": [
    "print(\"Head:\\n\", combined_df.head())\n",
    "print(\"\\nTail:\\n\", combined_df.tail())\n",
    "print(f\"\\nJumlah data: {len(combined_df)}\")\n",
    "print(f\"Kolom: {combined_df.columns.tolist()}\")\n"
   ]
  },
  {
   "cell_type": "code",
   "execution_count": 65,
   "id": "c084384e-3b15-4e24-be94-81f0a0bbbd1e",
   "metadata": {},
   "outputs": [
    {
     "name": "stdout",
     "output_type": "stream",
     "text": [
      "Arya menang: 448 kali\n",
      "Dennis menang: 441 kali\n"
     ]
    }
   ],
   "source": [
    "# Pastikan kolom list pemain tidak mengandung NaN\n",
    "combined_df['team_1_players'] = combined_df['team_1_players'].apply(lambda x: x if isinstance(x, list) else [])\n",
    "combined_df['team_2_players'] = combined_df['team_2_players'].apply(lambda x: x if isinstance(x, list) else [])\n",
    "\n",
    "# Fungsi head-to-head\n",
    "def is_head_to_head(row, p1, p2):\n",
    "    return (p1 in row['team_1_players'] and p2 in row['team_2_players']) or \\\n",
    "           (p2 in row['team_1_players'] and p1 in row['team_2_players'])\n",
    "\n",
    "# Filter match head-to-head Arya vs Dennis\n",
    "arya_vs_dennis = combined_df[combined_df.apply(lambda row: is_head_to_head(row, 'Arya', 'Dennis'), axis=1)]\n",
    "\n",
    "# Hitung kemenangan\n",
    "arya_win = 0\n",
    "dennis_win = 0\n",
    "\n",
    "for _, row in arya_vs_dennis.iterrows():\n",
    "    if 'Arya' in row['team_1_players'] and row['team_1_score'] > row['team_2_score']:\n",
    "        arya_win += 1\n",
    "    elif 'Arya' in row['team_2_players'] and row['team_2_score'] > row['team_1_score']:\n",
    "        arya_win += 1\n",
    "    elif 'Dennis' in row['team_1_players'] and row['team_1_score'] > row['team_2_score']:\n",
    "        dennis_win += 1\n",
    "    elif 'Dennis' in row['team_2_players'] and row['team_2_score'] > row['team_1_score']:\n",
    "        dennis_win += 1\n",
    "\n",
    "print(f\"Arya menang: {arya_win} kali\")\n",
    "print(f\"Dennis menang: {dennis_win} kali\")\n"
   ]
  },
  {
   "cell_type": "code",
   "execution_count": 66,
   "id": "5c574bd7-5e09-4227-9cf4-8687a8664251",
   "metadata": {},
   "outputs": [
    {
     "name": "stdout",
     "output_type": "stream",
     "text": [
      "David menang dengan skor 2-0 sebanyak 760 kali\n"
     ]
    }
   ],
   "source": [
    "david_wins_2_0 = combined_df[\n",
    "    ((combined_df['team_1_score'] == 2) & (combined_df['team_2_score'] == 0) & (combined_df['team_1'].str.contains('David'))) |\n",
    "    ((combined_df['team_2_score'] == 0) & (combined_df['team_1_score'] == 2) & (combined_df['team_2'].str.contains('David')))\n",
    "]\n",
    "\n",
    "print(f\"David menang dengan skor 2-0 sebanyak {len(david_wins_2_0)} kali\")\n"
   ]
  },
  {
   "cell_type": "code",
   "execution_count": 67,
   "id": "72c70cc7-f5b0-40b1-879a-144753f0cfb4",
   "metadata": {},
   "outputs": [
    {
     "name": "stdout",
     "output_type": "stream",
     "text": [
      "Moel kalah dengan skor 1-2 sebanyak 714 kali\n"
     ]
    }
   ],
   "source": [
    "moel_losses_1_2 = combined_df[\n",
    "    ((combined_df['team_1_score'] == 1) & (combined_df['team_2_score'] == 2) & (combined_df['team_1'].str.contains('Moel'))) |\n",
    "    ((combined_df['team_2_score'] == 1) & (combined_df['team_1_score'] == 2) & (combined_df['team_2'].str.contains('Moel')))\n",
    "]\n",
    "\n",
    "print(f\"Moel kalah dengan skor 1-2 sebanyak {len(moel_losses_1_2)} kali\")\n"
   ]
  },
  {
   "cell_type": "code",
   "execution_count": 69,
   "id": "dc10de80-2554-48a8-ae07-d29ca80b4934",
   "metadata": {},
   "outputs": [
    {
     "name": "stdout",
     "output_type": "stream",
     "text": [
      "MAE: 0.7122809288417968\n",
      "MSE: 0.6692868549390287\n"
     ]
    }
   ],
   "source": [
    "from sklearn.model_selection import train_test_split\n",
    "from sklearn.preprocessing import OneHotEncoder\n",
    "from sklearn.compose import ColumnTransformer\n",
    "from sklearn.pipeline import Pipeline\n",
    "from sklearn.ensemble import RandomForestRegressor\n",
    "from sklearn.metrics import mean_squared_error, mean_absolute_error\n",
    "\n",
    "# Fitur dan target\n",
    "X = combined_df[['t1_p1_condition', 't1_p2_condition', 't2_p1_condition', 't2_p2_condition']]\n",
    "y = combined_df[['team_1_score', 'team_2_score']]\n",
    "\n",
    "# One-hot encoding untuk fitur\n",
    "categorical_features = X.columns.tolist()\n",
    "preprocessor = ColumnTransformer(\n",
    "    transformers=[\n",
    "        ('cat', OneHotEncoder(), categorical_features)\n",
    "    ])\n",
    "\n",
    "# Split train-test\n",
    "X_train, X_test, y_train, y_test = train_test_split(X, y, test_size=0.2, random_state=42)\n",
    "\n",
    "# Buat pipeline model regresi\n",
    "model = Pipeline(steps=[\n",
    "    ('preprocessor', preprocessor),\n",
    "    ('regressor', RandomForestRegressor(random_state=42))\n",
    "])\n",
    "\n",
    "# Train model\n",
    "model.fit(X_train, y_train)\n",
    "\n",
    "# Evaluate model\n",
    "y_pred = model.predict(X_test)\n",
    "print(\"MAE:\", mean_absolute_error(y_test, y_pred))\n",
    "print(\"MSE:\", mean_squared_error(y_test, y_pred))\n"
   ]
  },
  {
   "cell_type": "code",
   "execution_count": 70,
   "id": "4155f299-c53e-4753-99c0-3f0e25a882aa",
   "metadata": {},
   "outputs": [
    {
     "name": "stdout",
     "output_type": "stream",
     "text": [
      "Match 1: Team1 (Arya/Dennis) vs Team2 (David/Moel) -> Predicted Score: [1.29826754 0.99010707]\n",
      "Match 2: Team1 (Arya/Dennis) vs Team2 (David/Moel) -> Predicted Score: [1.29826754 0.99010707]\n",
      "Match 3: Team1 (Arya/Dennis) vs Team2 (David/Moel) -> Predicted Score: [1.29826754 0.99010707]\n",
      "Match 4: Team1 (Arya/Dennis) vs Team2 (David/Moel) -> Predicted Score: [1.29826754 0.99010707]\n",
      "Match 5: Team1 (Arya/Dennis) vs Team2 (David/Moel) -> Predicted Score: [1.29826754 0.99010707]\n",
      "Match 6: Team1 (Arya/Dennis) vs Team2 (David/Moel) -> Predicted Score: [1.29826754 0.99010707]\n",
      "Match 7: Team1 (Arya/Dennis) vs Team2 (David/Moel) -> Predicted Score: [1.29826754 0.99010707]\n",
      "Match 8: Team1 (Arya/Dennis) vs Team2 (David/Moel) -> Predicted Score: [1.29826754 0.99010707]\n",
      "Match 9: Team1 (Arya/Dennis) vs Team2 (David/Moel) -> Predicted Score: [1.29826754 0.99010707]\n",
      "Match 10: Team1 (Arya/Dennis) vs Team2 (David/Moel) -> Predicted Score: [1.29826754 0.99010707]\n"
     ]
    }
   ],
   "source": [
    "# Asumsi kondisi semua pemain: \"fit\"\n",
    "match_data = pd.DataFrame({\n",
    "    't1_p1_condition': ['fit']*10,\n",
    "    't1_p2_condition': ['fit']*10,\n",
    "    't2_p1_condition': ['fit']*10,\n",
    "    't2_p2_condition': ['fit']*10\n",
    "})\n",
    "\n",
    "# Prediksi skor untuk 10 match\n",
    "pred_scores = model.predict(match_data)\n",
    "\n",
    "for i, score in enumerate(pred_scores, 1):\n",
    "    print(f\"Match {i}: Team1 (Arya/Dennis) vs Team2 (David/Moel) -> Predicted Score: {score}\")\n"
   ]
  },
  {
   "cell_type": "code",
   "execution_count": 71,
   "id": "003db496-c4c9-4eae-8441-63b10656b9f9",
   "metadata": {},
   "outputs": [
    {
     "name": "stdout",
     "output_type": "stream",
     "text": [
      "Match 1: Arya (sakit) + Moel (recovery) vs random sehat -> Predicted Score: [0.95330571 1.47521691]\n",
      "Match 2: Arya (sakit) + Moel (recovery) vs random sehat -> Predicted Score: [0.95330571 1.47521691]\n",
      "Match 3: Arya (sakit) + Moel (recovery) vs random sehat -> Predicted Score: [0.95330571 1.47521691]\n",
      "Match 4: Arya (sakit) + Moel (recovery) vs random sehat -> Predicted Score: [0.95330571 1.47521691]\n",
      "Match 5: Arya (sakit) + Moel (recovery) vs random sehat -> Predicted Score: [0.95330571 1.47521691]\n"
     ]
    }
   ],
   "source": [
    "# 5 pertandingan random\n",
    "sakit_vs_sehat_data = pd.DataFrame({\n",
    "    't1_p1_condition': ['sick']*5,\n",
    "    't1_p2_condition': ['recovery']*5,\n",
    "    't2_p1_condition': ['fit']*5,\n",
    "    't2_p2_condition': ['fit']*5\n",
    "})\n",
    "\n",
    "pred_scores_sakit = model.predict(sakit_vs_sehat_data)\n",
    "\n",
    "for i, score in enumerate(pred_scores_sakit, 1):\n",
    "    print(f\"Match {i}: Arya (sakit) + Moel (recovery) vs random sehat -> Predicted Score: {score}\")\n"
   ]
  },
  {
   "cell_type": "code",
   "execution_count": 73,
   "id": "685eff02-c661-44f6-8afa-3f9e9e72939f",
   "metadata": {},
   "outputs": [
    {
     "name": "stdout",
     "output_type": "stream",
     "text": [
      "3 Pasangan Terbaik Berdasarkan Prediksi Skor:\n",
      "1. Arya/Dennis → Rata-rata skor: 1.30\n",
      "2. Arya/David → Rata-rata skor: 1.30\n",
      "3. Arya/Moel → Rata-rata skor: 1.30\n"
     ]
    }
   ],
   "source": [
    "from itertools import combinations\n",
    "import numpy as np\n",
    "\n",
    "# Daftar semua pemain (disesuaikan dari datasetmu ya)\n",
    "all_players = ['Arya', 'Dennis', 'David', 'Moel', 'Eka', 'Wawo', 'Angga', 'Wirawan']\n",
    "\n",
    "# Simulasi lawan sehat (tetap)\n",
    "opponent_data = {\n",
    "    't2_p1_condition': 'fit',\n",
    "    't2_p2_condition': 'fit'\n",
    "}\n",
    "\n",
    "pair_scores = []\n",
    "\n",
    "# Loop semua kombinasi pasangan\n",
    "for p1, p2 in combinations(all_players, 2):\n",
    "    # Buat data simulasi 3x match per pasangan\n",
    "    match_input = pd.DataFrame({\n",
    "        't1_p1_condition': ['fit']*3,\n",
    "        't1_p2_condition': ['fit']*3,\n",
    "        't2_p1_condition': ['fit']*3,\n",
    "        't2_p2_condition': ['fit']*3\n",
    "    })\n",
    "\n",
    "    # Prediksi skor\n",
    "    pred = model.predict(match_input)\n",
    "    avg_score = np.mean([p[0] for p in pred])  # Ambil skor tim 1\n",
    "\n",
    "    pair_scores.append({\n",
    "        'pair': f\"{p1}/{p2}\",\n",
    "        'avg_team1_score': avg_score\n",
    "    })\n",
    "\n",
    "# Urutkan berdasarkan skor tertinggi\n",
    "top_pairs = sorted(pair_scores, key=lambda x: x['avg_team1_score'], reverse=True)[:3]\n",
    "\n",
    "# Tampilkan hasil\n",
    "print(\"3 Pasangan Terbaik Berdasarkan Prediksi Skor:\")\n",
    "for i, pair in enumerate(top_pairs, 1):\n",
    "    print(f\"{i}. {pair['pair']} → Rata-rata skor: {pair['avg_team1_score']:.2f}\")\n"
   ]
  }
 ],
 "metadata": {
  "kernelspec": {
   "display_name": "Python 3 (ipykernel)",
   "language": "python",
   "name": "python3"
  },
  "language_info": {
   "codemirror_mode": {
    "name": "ipython",
    "version": 3
   },
   "file_extension": ".py",
   "mimetype": "text/x-python",
   "name": "python",
   "nbconvert_exporter": "python",
   "pygments_lexer": "ipython3",
   "version": "3.12.5"
  }
 },
 "nbformat": 4,
 "nbformat_minor": 5
}
